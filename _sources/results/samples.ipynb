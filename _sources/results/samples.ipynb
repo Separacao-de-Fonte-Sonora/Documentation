{
  "nbformat": 4,
  "nbformat_minor": 0,
  "metadata": {
    "colab": {
      "name": "samples.ipynb",
      "provenance": [],
      "collapsed_sections": []
    },
    "kernelspec": {
      "name": "python3",
      "display_name": "Python 3"
    },
    "language_info": {
      "name": "python"
    }
  },
  "cells": [
    {
      "cell_type": "markdown",
      "metadata": {
        "id": "UyiZb68MQl4y"
      },
      "source": [
        "# Samples"
      ]
    },
    {
      "cell_type": "code",
      "metadata": {
        "id": "0V2_J1QHPAGX"
      },
      "source": [
        "import nussl\n",
        "mix = nussl.AudioSignal(nussl.efz_utils.download_audio_file('zeno_sign_mix_LerFJoZ.wav', verbose=False))\n",
        "ref = nussl.AudioSignal(nussl.efz_utils.download_audio_file('zeno_sign_vocals-reference.wav', verbose=False))\n",
        "convtasnet = nussl.AudioSignal(nussl.efz_utils.download_audio_file('zeno_sign_vocals-convtasnet.wav', verbose=False))\n",
        "open_unmix = nussl.AudioSignal(nussl.efz_utils.download_audio_file('zeno_sign_vocals-openunmix.wav', verbose=False))\n",
        "\n",
        "print('Mixture')\n",
        "mix.embed_audio()\n",
        "\n",
        "print('Reference Source')\n",
        "ref.embed_audio()\n",
        "\n",
        "print('ConvTasnet Source')\n",
        "convtasnet.embed_audio()\n",
        "\n",
        "print('Open-Unmix Estimate')\n",
        "_ = open_unmix.embed_audio()"
      ],
      "execution_count": null,
      "outputs": []
    }
  ]
}